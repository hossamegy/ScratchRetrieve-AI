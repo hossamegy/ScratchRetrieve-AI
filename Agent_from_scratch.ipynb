{
 "cells": [
  {
   "cell_type": "code",
   "execution_count": 16,
   "id": "28e60898-a19f-4511-bfd9-8ef12bb706de",
   "metadata": {},
   "outputs": [],
   "source": [
    "from langchain_google_genai import ChatGoogleGenerativeAI, GoogleGenerativeAIEmbeddings\n",
    "from langchain_community.vectorstores import FAISS\n",
    "from langchain_community.document_loaders import PyPDFLoader\n",
    "from langchain.text_splitter import RecursiveCharacterTextSplitter\n",
    "import re"
   ]
  },
  {
   "cell_type": "code",
   "execution_count": 24,
   "id": "38ba2758",
   "metadata": {},
   "outputs": [],
   "source": [
    "model_name = \"gemini-1.5-flash-latest\" \n",
    "google_api_key = \"write_your_key_here\""
   ]
  },
  {
   "cell_type": "code",
   "execution_count": 25,
   "id": "a49f31ab-e7a6-41f9-984c-12c2552ce97e",
   "metadata": {},
   "outputs": [],
   "source": [
    "def create_retriever(paths):\n",
    "    embeddings = GoogleGenerativeAIEmbeddings(model = \"models/embedding-001\", google_api_key=google_api_key)\n",
    "    docments = []\n",
    "    for path in paths:\n",
    "        loader = PyPDFLoader(path)\n",
    "        docments.extend(loader.load())\n",
    "        text_splitter = RecursiveCharacterTextSplitter(chunk_size=3000, chunk_overlap=1500)\n",
    "        splited_documents = text_splitter.split_documents(docments)\n",
    "        vectorDB = FAISS.from_documents(splited_documents, embeddings)\n",
    "    return vectorDB"
   ]
  },
  {
   "cell_type": "code",
   "execution_count": 26,
   "id": "1c7a206e",
   "metadata": {},
   "outputs": [],
   "source": [
    "course_retriever =  create_retriever([r\"pdf_source\\Lec_2.pdf\"])\n",
    "agent_retriever =  create_retriever([r\"pdf_source\\agent_info.pdf\"])\n",
    "user_retriever =  create_retriever([r\"pdf_source\\user_info.pdf\"])"
   ]
  },
  {
   "cell_type": "code",
   "execution_count": 27,
   "id": "f9dd0871-6ca6-41ed-bebb-b4d7979d9a1f",
   "metadata": {},
   "outputs": [],
   "source": [
    "def course_info_retriever(question):\n",
    "    docs = \"\"\n",
    "    for result in course_retriever.similarity_search_with_relevance_scores(query=question):\n",
    "      docs += result[0].page_content\n",
    "    return docs  \n",
    "    \n",
    "def agent_info_retriever(question):\n",
    "    docs = \"\"\n",
    "    for result in agent_retriever.similarity_search_with_relevance_scores(query=question):\n",
    "        docs += result[0].page_content\n",
    "    return docs \n",
    "    \n",
    "def user_info_retriever(question):\n",
    "    docs = \"\"\n",
    "    for result in user_retriever.similarity_search_with_relevance_scores(query=question):\n",
    "        docs += result[0].page_content\n",
    "    return docs "
   ]
  },
  {
   "cell_type": "code",
   "execution_count": 28,
   "id": "f816b760-cd29-43f1-b482-75200dcf3ba5",
   "metadata": {},
   "outputs": [],
   "source": [
    "prompt = \"\"\"\n",
    "You run in a loop of Thought, Action, PAUSE, Observation.\n",
    "At the end of the loop, output an answer using only the context retrieved from actions. Do not invent or explain answers; make sure your response is directly related to the question and sounds natural.\n",
    "Use 'Thought' to describe your reflections on the question you’ve been asked, and Make sure of the pronouns if I am asking about you, or I am asking about myself, or I am asking about.\n",
    "e.g.question: can you see\n",
    "e.g. Thought: I need to understand what the user is asking. I'll use agent_info_retriever to get information about my capabilities.\n",
    "\n",
    "Use Action to run one of the actions available to you - then return PAUSE.\n",
    "Observation will be the result of running those actions.\n",
    "\n",
    "Your available actions are:\n",
    "\n",
    "agent_info_retriever:\n",
    "e.g. agent_info_retriever: when the question pertains to details about the chatbot or agent. For example, \"When referring to 'you' or 'chatbot,' use agent_info_retriever.\n",
    "returns agent_info_retriever.\n",
    "\n",
    "course_info_retriever:\n",
    "e.g. course_info_retriever: when i ask about in other domain or field.\n",
    "returns course_info_retriever.\n",
    "\n",
    "user_info_retriever:\n",
    "e.g. user_info_retriever: just when i ask about user's personal details or any information about user.\n",
    "returns user_info_retriever\n",
    "\n",
    "Example session:\n",
    "\n",
    "Question: hi, what is your name?\n",
    "Thought: I should retrieve information from the agent_info_retrievert using agent_info_retriever.\n",
    "Action: agent_info_retriever: question.\n",
    "PAUSE\n",
    "\n",
    "You will be called again with this:\n",
    "\n",
    "Observation: Name: x-bot\n",
    "\n",
    "You then output:\n",
    "\n",
    "Answer: My name is x-bot\n",
    "\"\"\".strip()"
   ]
  },
  {
   "cell_type": "code",
   "execution_count": 29,
   "id": "7b51dc2d-bd15-489a-b363-bf56b09bc8c6",
   "metadata": {},
   "outputs": [
    {
     "name": "stdout",
     "output_type": "stream",
     "text": [
      "Thought: I need to retrieve information about the user's faculty. I will use the user_info_retriever.\n",
      "Action: user_info_retriever: question.\n",
      "PAUSE \n",
      "\n",
      " -- running user_info_retriever question.\n",
      "Observation: User information:  \n",
      "Name:  Hossam  Eldin Tammam  Gad  \n",
      "Age: 25  \n",
      "Grad: 3.7 \n",
      "Grad: A \n",
      "Faculty : Computer and information Technology  \n",
      "Specialist  : artificial  intelligence\n",
      "Answer: Your Faculty is Computer and information Technology. \n",
      "\n"
     ]
    }
   ],
   "source": [
    "class SimpleAgent:\n",
    "    def __init__(self, system='',):\n",
    "        self.system = system\n",
    "        self.messages = []\n",
    "        if self.system:\n",
    "            self.messages.append({\"role\": \"system\", \"content\": system})\n",
    "   \n",
    "    def __call__(self, message):\n",
    "        self.messages.append({\"role\": \"user\", \"content\": message})\n",
    "        result = self.execute()\n",
    "        self.messages.append({\"role\": \"assistant\", \"content\": result})\n",
    "        return result\n",
    "\n",
    "    def execute(self):\n",
    "        llm = ChatGoogleGenerativeAI(model=model_name, google_api_key=google_api_key)\n",
    "        return llm.invoke(self.messages).content\n",
    "\n",
    "    def query(self, question, known_actions, action_re, max_turns=5):  \n",
    "        i = 0\n",
    "        next_prompt = question\n",
    "        \n",
    "        while i < max_turns:\n",
    "            i += 1\n",
    "            result = self(next_prompt)\n",
    "            print(result)\n",
    "            \n",
    "            actions = [action_re.match(a) for a in result.split('\\n') if action_re.match(a)]\n",
    "            \n",
    "            if actions:\n",
    "                action, action_input = actions[0].groups()\n",
    "                if action not in known_actions:\n",
    "                    raise Exception(f\"Unknown action: {action}: {action_input}\")\n",
    "                print(f\" -- running {action} {action_input}\")\n",
    "                observation = known_actions[action](action_input)\n",
    "                print(\"Observation:\", observation)\n",
    "                next_prompt = f\"Observation: {observation}\"\n",
    "            else:\n",
    "                return\n",
    "\n",
    "action_re = re.compile(r'^Action: (\\w+): (.*)$')\n",
    "known_actions = {\n",
    "    \"course_info_retriever\": course_info_retriever,\n",
    "    \"agent_info_retriever\": agent_info_retriever,\n",
    "    \"user_info_retriever\": user_info_retriever\n",
    "}\n",
    "\n",
    "agent = SimpleAgent(system=prompt)\n",
    "agent.query(\"what is my Faculty \", max_turns=10, known_actions=known_actions, action_re=action_re)"
   ]
  },
  {
   "cell_type": "code",
   "execution_count": null,
   "id": "d3945f53-db84-462e-b7e8-88aa35ff64c3",
   "metadata": {},
   "outputs": [],
   "source": []
  }
 ],
 "metadata": {
  "kernelspec": {
   "display_name": "Python 3 (ipykernel)",
   "language": "python",
   "name": "python3"
  },
  "language_info": {
   "codemirror_mode": {
    "name": "ipython",
    "version": 3
   },
   "file_extension": ".py",
   "mimetype": "text/x-python",
   "name": "python",
   "nbconvert_exporter": "python",
   "pygments_lexer": "ipython3",
   "version": "3.12.4"
  }
 },
 "nbformat": 4,
 "nbformat_minor": 5
}
